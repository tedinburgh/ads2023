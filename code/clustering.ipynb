{
 "cells": [
  {
   "cell_type": "code",
   "execution_count": null,
   "id": "e67324a0",
   "metadata": {},
   "outputs": [],
   "source": [
    "import numpy as np\n",
    "import matplotlib.pyplot as plt\n",
    "import matplotlib.gridspec as gridspec\n",
    "import pandas as pd\n",
    "\n",
    "from sklearn.cluster import KMeans, AgglomerativeClustering\n",
    "from scipy.cluster.hierarchy import dendrogram\n",
    "from scipy.spatial import distance_matrix"
   ]
  },
  {
   "cell_type": "code",
   "execution_count": null,
   "id": "41d6f447",
   "metadata": {},
   "outputs": [],
   "source": [
    "# Example from scikit-learn\n",
    "# https://scikit-learn.org/stable/auto_examples/cluster/plot_digits_linkage"
   ]
  },
  {
   "cell_type": "code",
   "execution_count": null,
   "id": "8634d0a9",
   "metadata": {},
   "outputs": [],
   "source": [
    "# Small example\n",
    "linkage_fun = 'min'\n",
    "np.random.seed(19112023)\n",
    "x = np.random.uniform(size=(6, 2))"
   ]
  },
  {
   "cell_type": "code",
   "execution_count": null,
   "id": "50e45676",
   "metadata": {},
   "outputs": [],
   "source": [
    "fig = plt.figure(figsize=(12, 6))\n",
    "gs = gridspec.GridSpec(1, 2)\n",
    "\n",
    "ax_x = plt.subplot(gs[0])\n",
    "for ii in range(x.shape[0]):\n",
    "    ax_x.text(x[ii, 0], x[ii, 1], str(ii), ma='center')\n",
    "    \n",
    "ax_x.set_ylim([-0.05, 1.05])\n",
    "ax_x.set_xlim([-0.05, 1.05])\n",
    "\n",
    "ax_dist = plt.subplot(gs[1])\n",
    "h = ax_dist.set_ylim([0, 1])\n",
    "h = ax_dist.set_ylabel('Dist')\n",
    "h = ax_dist.set_xlim([-0.5, x.shape[0] - 0.5])\n",
    "h = ax_dist.set_xticks(range(x.shape[0]))"
   ]
  },
  {
   "cell_type": "code",
   "execution_count": null,
   "id": "bead6452",
   "metadata": {},
   "outputs": [],
   "source": [
    "d = pd.DataFrame(distance_matrix(x, x), index=range(6), columns=range(6))\n",
    "print(d.round(2))"
   ]
  },
  {
   "cell_type": "code",
   "execution_count": null,
   "id": "221bf17e",
   "metadata": {},
   "outputs": [],
   "source": [
    "# Find the minimum distance\n",
    "# Look only the upper triangular part of d (ignoring the diagonal as well)\n",
    "# mask is True for upper triangular, False for diagonal and lower triangular\n",
    "mask = np.ones(d.shape).astype(bool)\n",
    "mask[np.tril(mask)] = False\n",
    "# Min distance is d_min\n",
    "d_min = d.values[mask].min()\n",
    "# But we want to know which pair of points\n",
    "d_ind = np.triu_indices_from(d.values, k=1) # k=1 ignores the diagonal again\n",
    "d_argmin = d.values[mask].argmin()\n",
    "A = [d.columns[d_ind[0][d_argmin]], d.index[d_ind[1][d_argmin]]]\n",
    "print(A)"
   ]
  },
  {
   "cell_type": "code",
   "execution_count": null,
   "id": "c6edfb93",
   "metadata": {},
   "outputs": [],
   "source": [
    "# SINGLE LINKAGE\n",
    "d_min = [d_min]"
   ]
  },
  {
   "cell_type": "code",
   "execution_count": null,
   "id": "76f76ca1",
   "metadata": {},
   "outputs": [],
   "source": [
    "# We'll merge 3 and 5 into a new cluster, A\n",
    "d.loc['A'] = d[A].apply(linkage_fun, axis=1)\n",
    "d['A'] = d[A].apply(linkage_fun, axis=1)\n",
    "print(d.round(2))"
   ]
  },
  {
   "cell_type": "code",
   "execution_count": null,
   "id": "92f5e71c",
   "metadata": {},
   "outputs": [],
   "source": [
    "d.drop(A, axis=0, inplace=True)\n",
    "d.drop(A, axis=1, inplace=True)\n",
    "print(d.round(2))"
   ]
  },
  {
   "cell_type": "code",
   "execution_count": null,
   "id": "68ffa76a",
   "metadata": {},
   "outputs": [],
   "source": [
    "fig = plt.figure(figsize=(12, 6))\n",
    "gs = gridspec.GridSpec(1, 2)\n",
    "\n",
    "Ax = A\n",
    "dA = [0, 0, d_min[0]]\n",
    "\n",
    "ax_x = plt.subplot(gs[0])\n",
    "for ii in range(x.shape[0]):\n",
    "    if ii in A:\n",
    "        ax_x.text(x[ii, 0], x[ii, 1], str(ii), ma='center', color='red')\n",
    "    else:\n",
    "        ax_x.text(x[ii, 0], x[ii, 1], str(ii), ma='center')\n",
    "    \n",
    "ax_x.set_ylim([-0.05, 1.05])\n",
    "ax_x.set_xlim([-0.05, 1.05])\n",
    "\n",
    "ax_dist = plt.subplot(gs[1])\n",
    "ax_dist.plot([Ax[0], Ax[0]], [dA[0], dA[2]], color='red')\n",
    "ax_dist.plot([Ax[0], Ax[1]], [dA[2], dA[2]], color='red')\n",
    "ax_dist.plot([Ax[1], Ax[1]], [dA[1], dA[2]], color='red')\n",
    "h = ax_dist.set_ylim([0, 1])\n",
    "h = ax_dist.set_ylabel('Dist')\n",
    "h = ax_dist.set_xlim([-0.5, x.shape[0] - 0.5])\n",
    "h = ax_dist.set_xticks(range(x.shape[0]))"
   ]
  },
  {
   "cell_type": "code",
   "execution_count": null,
   "id": "2fa70c20",
   "metadata": {},
   "outputs": [],
   "source": [
    "# Find the minimum distance\n",
    "# Look only the upper triangular part of d (ignoring the diagonal as well)\n",
    "# mask is True for upper triangular, False for diagonal and lower triangular\n",
    "mask = np.ones(d.shape).astype(bool)\n",
    "mask[np.tril(mask)] = False\n",
    "# Min distance is d_min\n",
    "d_min = d_min + [d.values[mask].min()]\n",
    "# But we want to know which pair of points\n",
    "d_ind = np.triu_indices_from(d.values, k=1) # k=1 ignores the diagonal again\n",
    "d_argmin = d.values[mask].argmin()\n",
    "B = [d.columns[d_ind[0][d_argmin]], d.index[d_ind[1][d_argmin]]]\n",
    "print(B)"
   ]
  },
  {
   "cell_type": "code",
   "execution_count": null,
   "id": "5abee0c5",
   "metadata": {},
   "outputs": [],
   "source": [
    "# We'll merge into a new cluster B\n",
    "d.loc['B'] = d[B].apply(linkage_fun, axis=1)\n",
    "d['B'] = d[B].apply(linkage_fun, axis=1)\n",
    "print(d.round(2))"
   ]
  },
  {
   "cell_type": "code",
   "execution_count": null,
   "id": "621ed4a9",
   "metadata": {},
   "outputs": [],
   "source": [
    "d.drop(B, axis=0, inplace=True)\n",
    "d.drop(B, axis=1, inplace=True)\n",
    "print(d.round(2))"
   ]
  },
  {
   "cell_type": "code",
   "execution_count": null,
   "id": "9270e077",
   "metadata": {},
   "outputs": [],
   "source": [
    "if 'A' in B:\n",
    "    notA_ind = np.where(np.array(B) != 'A')[0][0]\n",
    "    Bx = [B[notA_ind], 0.5*(Ax[0] + Ax[1])]\n",
    "    dB = [0, d_min[0], d_min[1]]\n",
    "    B_desc = [B[notA_ind]] + A\n",
    "else:\n",
    "    Bx = B\n",
    "    dB = [0, 0, d_min[1]]\n",
    "    B_desc = B"
   ]
  },
  {
   "cell_type": "code",
   "execution_count": null,
   "id": "3a3c56ba",
   "metadata": {
    "scrolled": true
   },
   "outputs": [],
   "source": [
    "fig = plt.figure(figsize=(12, 6))\n",
    "gs = gridspec.GridSpec(1, 2)\n",
    "\n",
    "ax_x = plt.subplot(gs[0])\n",
    "for ii in range(x.shape[0]):\n",
    "    if ii in B_desc:\n",
    "        ax_x.text(x[ii, 0], x[ii, 1], str(ii), ma='center', color='blue')\n",
    "    elif ii in A:\n",
    "        ax_x.text(x[ii, 0], x[ii, 1], str(ii), ma='center', color='red')\n",
    "    else:\n",
    "        ax_x.text(x[ii, 0], x[ii, 1], str(ii), ma='center')\n",
    "    \n",
    "ax_x.set_ylim([-0.05, 1.05])\n",
    "ax_x.set_xlim([-0.05, 1.05])\n",
    "\n",
    "ax_dist = plt.subplot(gs[1])\n",
    "ax_dist.plot([Ax[0], Ax[0]], [dA[0], dA[2]], color='red')\n",
    "ax_dist.plot([Ax[0], Ax[1]], [dA[2], dA[2]], color='red')\n",
    "ax_dist.plot([Ax[1], Ax[1]], [dA[1], dA[2]], color='red')\n",
    "ax_dist.plot([Bx[0], Bx[0]], [dB[0], dB[2]], color='blue')\n",
    "ax_dist.plot([Bx[0], Bx[1]], [dB[2], dB[2]], color='blue')\n",
    "ax_dist.plot([Bx[1], Bx[1]], [dB[1], dB[2]], color='blue')\n",
    "h = ax_dist.set_ylim([0, 1])\n",
    "h = ax_dist.set_ylabel('Dist')\n",
    "h = ax_dist.set_xlim([-0.5, x.shape[0] - 0.5])\n",
    "h = ax_dist.set_xticks(range(x.shape[0]))"
   ]
  },
  {
   "cell_type": "code",
   "execution_count": null,
   "id": "1cf5d4c4",
   "metadata": {},
   "outputs": [],
   "source": [
    "# Find the minimum distance\n",
    "# Look only the upper triangular part of d (ignoring the diagonal as well)\n",
    "# mask is True for upper triangular, False for diagonal and lower triangular\n",
    "mask = np.ones(d.shape).astype(bool)\n",
    "mask[np.tril(mask)] = False\n",
    "# Min distance is d_min\n",
    "d_min = d_min + [d.values[mask].min()]\n",
    "# But we want to know which pair of points\n",
    "d_ind = np.triu_indices_from(d.values, k=1) # k=1 ignores the diagonal again\n",
    "d_argmin = d.values[mask].argmin()\n",
    "C = [d.columns[d_ind[0][d_argmin]], d.index[d_ind[1][d_argmin]]]\n",
    "print(C)"
   ]
  },
  {
   "cell_type": "code",
   "execution_count": null,
   "id": "8f04cba5",
   "metadata": {},
   "outputs": [],
   "source": [
    "# We'll merge into a new cluster C\n",
    "d.loc['C'] = d[C].apply(linkage_fun, axis=1)\n",
    "d['C'] = d[C].apply(linkage_fun, axis=1)\n",
    "print(d.round(2))"
   ]
  },
  {
   "cell_type": "code",
   "execution_count": null,
   "id": "cf9a501f",
   "metadata": {},
   "outputs": [],
   "source": [
    "d.drop(C, axis=0, inplace=True)\n",
    "d.drop(C, axis=1, inplace=True)\n",
    "print(d.round(2))"
   ]
  },
  {
   "cell_type": "code",
   "execution_count": null,
   "id": "5a44ce50",
   "metadata": {},
   "outputs": [],
   "source": [
    "if ('A' in C) and ('B' in C):\n",
    "    Cx = [0.5*(Ax[0] + Ax[1]), 0.5*(Bx[0] + Bx[1])]\n",
    "    dC = [d_min[0], d_min[1], d_min[2]]\n",
    "    C_desc = B_desc + A\n",
    "elif 'B' in C:\n",
    "    notB_ind = np.where(np.array(C) != 'B')[0][0]\n",
    "    Cx = [C[notB_ind], 0.5*(Bx[0] + Bx[1])]\n",
    "    dC = [0, d_min[1], d_min[2]]\n",
    "    C_desc = [C[notB_ind]] + B_desc\n",
    "elif 'A' in C:\n",
    "    notA_ind = np.where(np.array(C) != 'A')[0][0]\n",
    "    Cx = [C[notA_ind], 0.5*(Ax[0] + Ax[1])]\n",
    "    dC = [0, d_min[0], d_min[2]]\n",
    "    C_desc = [C[notB_ind]] + A\n",
    "else:\n",
    "    Cx = C\n",
    "    dC = [0, 0, d_min[2]]\n",
    "    C_desc = C"
   ]
  },
  {
   "cell_type": "code",
   "execution_count": null,
   "id": "ed8d18a7",
   "metadata": {},
   "outputs": [],
   "source": [
    "fig = plt.figure(figsize=(12, 6))\n",
    "gs = gridspec.GridSpec(1, 2)\n",
    "\n",
    "ax_x = plt.subplot(gs[0])\n",
    "for ii in range(x.shape[0]):\n",
    "    if ii in C_desc:\n",
    "        ax_x.text(x[ii, 0], x[ii, 1], str(ii), ma='center', color='green')\n",
    "    elif ii in B_desc:\n",
    "        ax_x.text(x[ii, 0], x[ii, 1], str(ii), ma='center', color='blue')\n",
    "    elif ii in A:\n",
    "        ax_x.text(x[ii, 0], x[ii, 1], str(ii), ma='center', color='red')\n",
    "    else:\n",
    "        ax_x.text(x[ii, 0], x[ii, 1], str(ii), ma='center')\n",
    "    \n",
    "ax_x.set_ylim([-0.05, 1.05])\n",
    "ax_x.set_xlim([-0.05, 1.05])\n",
    "\n",
    "ax_dist = plt.subplot(gs[1])\n",
    "ax_dist.plot([Ax[0], Ax[0]], [dA[0], dA[2]], color='red')\n",
    "ax_dist.plot([Ax[0], Ax[1]], [dA[2], dA[2]], color='red')\n",
    "ax_dist.plot([Ax[1], Ax[1]], [dA[1], dA[2]], color='red')\n",
    "ax_dist.plot([Bx[0], Bx[0]], [dB[0], dB[2]], color='blue')\n",
    "ax_dist.plot([Bx[0], Bx[1]], [dB[2], dB[2]], color='blue')\n",
    "ax_dist.plot([Bx[1], Bx[1]], [dB[1], dB[2]], color='blue')\n",
    "ax_dist.plot([Cx[0], Cx[0]], [dC[0], dC[2]], color='green')\n",
    "ax_dist.plot([Cx[0], Cx[1]], [dC[2], dC[2]], color='green')\n",
    "ax_dist.plot([Cx[1], Cx[1]], [dC[1], dC[2]], color='green')\n",
    "h = ax_dist.set_ylim([0, 1])\n",
    "h = ax_dist.set_ylabel('Dist')\n",
    "h = ax_dist.set_xlim([-0.5, x.shape[0] - 0.5])\n",
    "h = ax_dist.set_xticks(range(x.shape[0]))"
   ]
  },
  {
   "cell_type": "code",
   "execution_count": null,
   "id": "2457f560",
   "metadata": {},
   "outputs": [],
   "source": [
    "# Find the minimum distance\n",
    "# Look only the upper triangular part of d (ignoring the diagonal as well)\n",
    "# mask is True for upper triangular, False for diagonal and lower triangular\n",
    "mask = np.ones(d.shape).astype(bool)\n",
    "mask[np.tril(mask)] = False\n",
    "# Min distance is d_min\n",
    "d_min = d_min + [d.values[mask].min()]\n",
    "# But we want to know which pair of points\n",
    "d_ind = np.triu_indices_from(d.values, k=1) # k=1 ignores the diagonal again\n",
    "d_argmin = d.values[mask].argmin()\n",
    "D = [d.columns[d_ind[0][d_argmin]], d.index[d_ind[1][d_argmin]]]\n",
    "print(D)"
   ]
  },
  {
   "cell_type": "code",
   "execution_count": null,
   "id": "6e1195d7",
   "metadata": {},
   "outputs": [],
   "source": [
    "# We'll merge into a new cluster D\n",
    "d.loc['D'] = d[D].apply(linkage_fun, axis=1)\n",
    "d['D'] = d[D].apply(linkage_fun, axis=1)\n",
    "print(d.round(2))"
   ]
  },
  {
   "cell_type": "code",
   "execution_count": null,
   "id": "bf74653e",
   "metadata": {},
   "outputs": [],
   "source": [
    "d.drop(D, axis=0, inplace=True)\n",
    "d.drop(D, axis=1, inplace=True)\n",
    "print(d.round(2))"
   ]
  },
  {
   "cell_type": "code",
   "execution_count": null,
   "id": "e8d61b89",
   "metadata": {},
   "outputs": [],
   "source": [
    "if ('A' in D) and ('B' in D):\n",
    "    Dx = [0.5*(Ax[0] + Ax[1]), 0.5*(Bx[0] + Bx[1])]\n",
    "    dD = [d_min[0], d_min[1], d_min[3]]\n",
    "    D_desc = B_desc + A\n",
    "elif ('A' in D) and ('C' in D):\n",
    "    Dx = [0.5*(Ax[0] + Ax[1]), 0.5*(Cx[0] + Cx[1])]\n",
    "    dD = [d_min[0], d_min[2], d_min[3]]\n",
    "    D_desc = C_desc + A\n",
    "elif ('B' in D) and ('C' in D):\n",
    "    Dx = [0.5*(Bx[0] + Bx[1]), 0.5*(Cx[0] + Cx[1])]\n",
    "    dD = [d_min[1], d_min[2], d_min[3]]\n",
    "    D_desc = B_desc + C_desc\n",
    "elif 'C' in D:\n",
    "    notC_ind = np.where(np.array(D) != 'C')[0][0]\n",
    "    Dx = [D[notC_ind], 0.5*(Cx[0] + Cx[1])]\n",
    "    dD = [0, d_min[2], d_min[3]]\n",
    "    D_desc = [D[notC_ind]] + C_desc\n",
    "elif 'B' in D:\n",
    "    notB_ind = np.where(np.array(D) != 'B')[0][0]\n",
    "    Dx = [D[notB_ind], 0.5*(Bx[0] + Bx[1])]\n",
    "    dD = [0, d_min[1], d_min[3]]\n",
    "    D_desc = [D[notB_ind]] + B_desc\n",
    "elif 'A' in D:\n",
    "    notA_ind = np.where(np.array(D) != 'A')[0][0]\n",
    "    Dx = [D[notA_ind], 0.5*(Ax[0] + Ax[1])]\n",
    "    dD = [0, d_min[0], d_min[3]]\n",
    "    D_desc = [D[notB_ind]] + A\n",
    "else:\n",
    "    Dx = D\n",
    "    dD = [0, 0, d_min[3]]\n",
    "    D_desc = D"
   ]
  },
  {
   "cell_type": "code",
   "execution_count": null,
   "id": "2cfcf3d6",
   "metadata": {},
   "outputs": [],
   "source": [
    "fig = plt.figure(figsize=(12, 6))\n",
    "gs = gridspec.GridSpec(1, 2)\n",
    "\n",
    "ax_x = plt.subplot(gs[0])\n",
    "for ii in range(x.shape[0]):\n",
    "    if ii in D_desc:\n",
    "        ax_x.text(x[ii, 0], x[ii, 1], str(ii), ma='center', color='orange')\n",
    "    elif ii in C_desc:\n",
    "        ax_x.text(x[ii, 0], x[ii, 1], str(ii), ma='center', color='green')\n",
    "    elif ii in B_desc:\n",
    "        ax_x.text(x[ii, 0], x[ii, 1], str(ii), ma='center', color='blue')\n",
    "    elif ii in A:\n",
    "        ax_x.text(x[ii, 0], x[ii, 1], str(ii), ma='center', color='red')\n",
    "    else:\n",
    "        ax_x.text(x[ii, 0], x[ii, 1], str(ii), ma='center')\n",
    "    \n",
    "ax_x.set_ylim([-0.05, 1.05])\n",
    "ax_x.set_xlim([-0.05, 1.05])\n",
    "\n",
    "ax_dist = plt.subplot(gs[1])\n",
    "ax_dist.plot([Ax[0], Ax[0]], [dA[0], dA[2]], color='red')\n",
    "ax_dist.plot([Ax[0], Ax[1]], [dA[2], dA[2]], color='red')\n",
    "ax_dist.plot([Ax[1], Ax[1]], [dA[1], dA[2]], color='red')\n",
    "ax_dist.plot([Bx[0], Bx[0]], [dB[0], dB[2]], color='blue')\n",
    "ax_dist.plot([Bx[0], Bx[1]], [dB[2], dB[2]], color='blue')\n",
    "ax_dist.plot([Bx[1], Bx[1]], [dB[1], dB[2]], color='blue')\n",
    "ax_dist.plot([Cx[0], Cx[0]], [dC[0], dC[2]], color='green')\n",
    "ax_dist.plot([Cx[0], Cx[1]], [dC[2], dC[2]], color='green')\n",
    "ax_dist.plot([Cx[1], Cx[1]], [dC[1], dC[2]], color='green')\n",
    "ax_dist.plot([Dx[0], Dx[0]], [dD[0], dD[2]], color='orange')\n",
    "ax_dist.plot([Dx[0], Dx[1]], [dD[2], dD[2]], color='orange')\n",
    "ax_dist.plot([Dx[1], Dx[1]], [dD[1], dD[2]], color='orange')\n",
    "h = ax_dist.set_ylim([0, 1])\n",
    "h = ax_dist.set_ylabel('Dist')\n",
    "h = ax_dist.set_xlim([-0.5, x.shape[0] - 0.5])\n",
    "h = ax_dist.set_xticks(range(x.shape[0]))"
   ]
  },
  {
   "cell_type": "code",
   "execution_count": null,
   "id": "3adb26f0",
   "metadata": {},
   "outputs": [],
   "source": [
    "E = list(d.columns)\n",
    "d_min = d_min + [d.iloc[0, 1]]\n",
    "\n",
    "if ('A' in E) and ('B' in E):\n",
    "    Ex = [0.5*(Ax[0] + Ax[1]), 0.5*(Bx[0] + Bx[1])]\n",
    "    dE = [d_min[0], d_min[1], d_min[3]]\n",
    "elif ('A' in E) and ('C' in E):\n",
    "    Ex = [0.5*(Ax[0] + Ax[1]), 0.5*(Cx[0] + Cx[1])]\n",
    "    dE = [d_min[0], d_min[2], d_min[3]]\n",
    "elif ('B' in E) and ('C' in E):\n",
    "    Ex = [0.5*(Bx[0] + Bx[1]), 0.5*(Cx[0] + Cx[1])]\n",
    "    dE = [d_min[1], d_min[2], d_min[3]]\n",
    "elif ('A' in E) and ('D' in E):\n",
    "    Ex = [0.5*(Ax[0] + Ax[1]), 0.5*(Dx[0] + Dx[1])]\n",
    "    dE = [d_min[0], d_min[3], d_min[4]]\n",
    "elif ('B' in E) and ('D' in E):\n",
    "    Ex = [0.5*(Bx[0] + Bx[1]), 0.5*(Dx[0] + Dx[1])]\n",
    "    dE = [d_min[1], d_min[3], d_min[4]]\n",
    "elif ('C' in E) and ('D' in E):\n",
    "    Ex = [0.5*(Cx[0] + Cx[1]), 0.5*(Dx[0] + Dx[1])]\n",
    "    dE = [d_min[2], d_min[3], d_min[4]]\n",
    "elif 'D' in E:\n",
    "    notD_ind = np.where(np.array(E) != 'D')[0][0]\n",
    "    Ex = [E[notD_ind], 0.5*(Dx[0] + Dx[1])]\n",
    "    dE = [0, d_min[3], d_min[4]]\n",
    "elif 'C' in E:\n",
    "    notC_ind = np.where(np.array(E) != 'C')[0][0]\n",
    "    Ex = [E[notC_ind], 0.5*(Cx[0] + Cx[1])]\n",
    "    dE = [0, d_min[2], d_min[4]]\n",
    "elif 'B' in E:\n",
    "    notB_ind = np.where(np.array(E) != 'B')[0][0]\n",
    "    Ex = [E[notB_ind], 0.5*(Bx[0] + Bx[1])]\n",
    "    dE = [0, d_min[1], d_min[4]]\n",
    "elif 'A' in E:\n",
    "    notA_ind = np.where(np.array(E) != 'A')[0][0]\n",
    "    Ex = [E[notA_ind], 0.5*(Ax[0] + Ax[1])]\n",
    "    dE = [0, d_min[0], d_min[4]]\n",
    "else:\n",
    "    Ex = E\n",
    "    dE = [0, 0, d_min[4]]"
   ]
  },
  {
   "cell_type": "code",
   "execution_count": null,
   "id": "76dcaccb",
   "metadata": {},
   "outputs": [],
   "source": [
    "fig = plt.figure(figsize=(12, 6))\n",
    "gs = gridspec.GridSpec(1, 2)\n",
    "\n",
    "ax_x = plt.subplot(gs[0])\n",
    "for ii in range(x.shape[0]):\n",
    "    ax_x.text(x[ii, 0], x[ii, 1], str(ii), ma='center', color='purple')\n",
    "    \n",
    "ax_x.set_ylim([-0.05, 1.05])\n",
    "ax_x.set_xlim([-0.05, 1.05])\n",
    "\n",
    "ax_dist = plt.subplot(gs[1])\n",
    "ax_dist.plot([Ax[0], Ax[0]], [dA[0], dA[2]], color='red')\n",
    "ax_dist.plot([Ax[0], Ax[1]], [dA[2], dA[2]], color='red')\n",
    "ax_dist.plot([Ax[1], Ax[1]], [dA[1], dA[2]], color='red')\n",
    "ax_dist.plot([Bx[0], Bx[0]], [dB[0], dB[2]], color='blue')\n",
    "ax_dist.plot([Bx[0], Bx[1]], [dB[2], dB[2]], color='blue')\n",
    "ax_dist.plot([Bx[1], Bx[1]], [dB[1], dB[2]], color='blue')\n",
    "ax_dist.plot([Cx[0], Cx[0]], [dC[0], dC[2]], color='green')\n",
    "ax_dist.plot([Cx[0], Cx[1]], [dC[2], dC[2]], color='green')\n",
    "ax_dist.plot([Cx[1], Cx[1]], [dC[1], dC[2]], color='green')\n",
    "ax_dist.plot([Dx[0], Dx[0]], [dD[0], dD[2]], color='orange')\n",
    "ax_dist.plot([Dx[0], Dx[1]], [dD[2], dD[2]], color='orange')\n",
    "ax_dist.plot([Dx[1], Dx[1]], [dD[1], dD[2]], color='orange')\n",
    "ax_dist.plot([Ex[0], Ex[0]], [dE[0], dE[2]], color='purple')\n",
    "ax_dist.plot([Ex[0], Ex[1]], [dE[2], dE[2]], color='purple')\n",
    "ax_dist.plot([Ex[1], Ex[1]], [dE[1], dE[2]], color='purple')\n",
    "h = ax_dist.set_ylim([0, 1])\n",
    "h = ax_dist.set_ylabel('Dist')\n",
    "h = ax_dist.set_xlim([-0.5, x.shape[0] - 0.5])\n",
    "h = ax_dist.set_xticks(range(x.shape[0]))"
   ]
  },
  {
   "cell_type": "code",
   "execution_count": null,
   "id": "55c36563",
   "metadata": {},
   "outputs": [],
   "source": [
    "# Try changing the random seed and re-running everything up to here\n",
    "# Or try changing linkage_fun to 'max' so it is complete linkage"
   ]
  },
  {
   "cell_type": "code",
   "execution_count": null,
   "id": "adb5a167",
   "metadata": {},
   "outputs": [],
   "source": [
    "# USE SCIKIT-LEARN\n",
    "def plot_dendrogram(model, **kwargs):\n",
    "    # Create linkage matrix and then plot the dendrogram\n",
    "\n",
    "    # create the counts of samples under each node\n",
    "    counts = np.zeros(model.children_.shape[0])\n",
    "    n_samples = len(model.labels_)\n",
    "    for i, merge in enumerate(model.children_):\n",
    "        current_count = 0\n",
    "        for child_idx in merge:\n",
    "            if child_idx < n_samples:\n",
    "                current_count += 1  # leaf node\n",
    "            else:\n",
    "                current_count += counts[child_idx - n_samples]\n",
    "        counts[i] = current_count\n",
    "\n",
    "    linkage_matrix = np.column_stack(\n",
    "        [model.children_, model.distances_, counts]\n",
    "    ).astype(float)\n",
    "\n",
    "    # Plot the corresponding dendrogram\n",
    "    dendrogram(linkage_matrix, **kwargs)\n",
    "\n",
    "\n",
    "# Default linkage is Ward\n",
    "model = AgglomerativeClustering(distance_threshold=0, n_clusters=None)\n",
    "model = model.fit(x)\n",
    "plot_dendrogram(model)"
   ]
  },
  {
   "cell_type": "code",
   "execution_count": null,
   "id": "5637fe21",
   "metadata": {},
   "outputs": [],
   "source": [
    "model = AgglomerativeClustering(distance_threshold=0, n_clusters=None, linkage='complete')\n",
    "model = model.fit(x)\n",
    "plot_dendrogram(model)"
   ]
  },
  {
   "cell_type": "code",
   "execution_count": null,
   "id": "d09e8b3a",
   "metadata": {},
   "outputs": [],
   "source": [
    "model = AgglomerativeClustering(distance_threshold=0, n_clusters=None, linkage='single')\n",
    "model = model.fit(x)\n",
    "plot_dendrogram(model)"
   ]
  },
  {
   "cell_type": "code",
   "execution_count": null,
   "id": "06cb5408",
   "metadata": {},
   "outputs": [],
   "source": []
  }
 ],
 "metadata": {
  "kernelspec": {
   "display_name": "Python 3 (ipykernel)",
   "language": "python",
   "name": "python3"
  },
  "language_info": {
   "codemirror_mode": {
    "name": "ipython",
    "version": 3
   },
   "file_extension": ".py",
   "mimetype": "text/x-python",
   "name": "python",
   "nbconvert_exporter": "python",
   "pygments_lexer": "ipython3",
   "version": "3.9.11"
  }
 },
 "nbformat": 4,
 "nbformat_minor": 5
}
